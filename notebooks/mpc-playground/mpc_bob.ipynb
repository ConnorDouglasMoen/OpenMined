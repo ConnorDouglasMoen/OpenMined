{
 "cells": [
  {
   "cell_type": "code",
   "execution_count": 1,
   "metadata": {},
   "outputs": [],
   "source": [
    "import notebook_importer"
   ]
  },
  {
   "cell_type": "code",
   "execution_count": 2,
   "metadata": {},
   "outputs": [
    {
     "name": "stdout",
     "output_type": "stream",
     "text": [
      "importing notebook from spdz.ipynb\n"
     ]
    }
   ],
   "source": [
    "import spdz\n",
    "import random\n",
    "import numpy as np\n",
    "import zmq"
   ]
  },
  {
   "cell_type": "code",
   "execution_count": 3,
   "metadata": {},
   "outputs": [],
   "source": [
    "# Bob is party 1\n",
    "party = 1\n",
    "\n",
    "# Connect to zmq\n",
    "context = zmq.Context()\n",
    "socket = context.socket(zmq.REP)\n",
    "socket.bind(\"tcp://*:5555\")"
   ]
  },
  {
   "cell_type": "code",
   "execution_count": 4,
   "metadata": {},
   "outputs": [],
   "source": [
    "# Input dataset\n",
    "X = np.array([\n",
    "    [0,0,1],\n",
    "    [0,1,1],\n",
    "    [1,0,1],\n",
    "    [1,1,1]\n",
    "])\n",
    "\n",
    "# Output dataset\n",
    "y = np.array([[0,0,1,1]]).T\n",
    "\n",
    "# Split input into shares \n",
    "X_shares = spdz.share_vec(spdz.wrap(X))\n",
    "X_alice = spdz.get_share(X_shares, 0)\n",
    "X_bob = spdz.get_share(X_shares, 1)\n",
    "\n",
    "# Split output into shares\n",
    "y_shares = spdz.secure(y)\n",
    "y_alice = spdz.get_share(y_shares, 0)\n",
    "y_bob = spdz.get_share(y_shares, 1)"
   ]
  },
  {
   "cell_type": "code",
   "execution_count": 5,
   "metadata": {},
   "outputs": [
    {
     "name": "stdout",
     "output_type": "stream",
     "text": [
      "OK\n",
      "OK\n"
     ]
    }
   ],
   "source": [
    "# Bob receives initial weights from Alice\n",
    "syn0_bob = spdz.swap_shares(np.array(\"OK\"), party, socket)\n",
    "\n",
    "# Bob sends X and y to Alice\n",
    "print(spdz.swap_shares(X_alice, party, socket))\n",
    "print(spdz.swap_shares(y_alice, party, socket))"
   ]
  },
  {
   "cell_type": "code",
   "execution_count": 6,
   "metadata": {},
   "outputs": [
    {
     "name": "stdout",
     "output_type": "stream",
     "text": [
      "Layer 0 weights: \n",
      "[[ 9.6731805]\n",
      " [-0.2077667]\n",
      " [-4.6290403]]\n"
     ]
    }
   ],
   "source": [
    "# Train in sync with Alice\n",
    "\n",
    "#sigmoid = spdz.SigmoidInterpolated10()\n",
    "sigmoid = spdz.Sigmoid()\n",
    "\n",
    "network = spdz.TwoLayerNetwork(sigmoid, party, socket)\n",
    "network.train(X_bob, y_bob, syn0_bob)\n",
    "\n",
    "network.print_weights()"
   ]
  },
  {
   "cell_type": "code",
   "execution_count": null,
   "metadata": {},
   "outputs": [],
   "source": []
  }
 ],
 "metadata": {
  "kernelspec": {
   "display_name": "Python 3",
   "language": "python",
   "name": "python3"
  },
  "language_info": {
   "codemirror_mode": {
    "name": "ipython",
    "version": 3
   },
   "file_extension": ".py",
   "mimetype": "text/x-python",
   "name": "python",
   "nbconvert_exporter": "python",
   "pygments_lexer": "ipython3",
   "version": "3.6.2"
  }
 },
 "nbformat": 4,
 "nbformat_minor": 2
}
