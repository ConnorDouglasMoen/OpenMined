{
 "cells": [
  {
   "cell_type": "code",
   "execution_count": 1,
   "metadata": {},
   "outputs": [],
   "source": [
    "import notebook_importer"
   ]
  },
  {
   "cell_type": "code",
   "execution_count": 2,
   "metadata": {},
   "outputs": [
    {
     "name": "stdout",
     "output_type": "stream",
     "text": [
      "importing notebook from spdz.ipynb\n"
     ]
    }
   ],
   "source": [
    "import spdz\n",
    "import random\n",
    "import numpy as np\n",
    "import zmq\n",
    "import time"
   ]
  },
  {
   "cell_type": "code",
   "execution_count": 3,
   "metadata": {},
   "outputs": [],
   "source": [
    "# Alice is party 0\n",
    "party = 0\n",
    "\n",
    "# Connect to zmq\n",
    "context = zmq.Context()\n",
    "socket = context.socket(zmq.REQ)\n",
    "socket.connect (\"tcp://localhost:5555\")"
   ]
  },
  {
   "cell_type": "code",
   "execution_count": 4,
   "metadata": {},
   "outputs": [],
   "source": [
    "# seed random numbers to make calculation\n",
    "# deterministic (just a good practice)\n",
    "random.seed(1)\n",
    "np.random.seed(1)\n",
    "\n",
    "# initialize weights randomly with mean 0\n",
    "syn0 = 2*np.random.random((3,1)) - 1\n",
    "syn0_shares = spdz.secure(syn0)\n",
    "\n",
    "# Split weights into two shares\n",
    "syn0_alice = spdz.get_share(syn0_shares, 0)\n",
    "syn0_bob = spdz.get_share(syn0_shares, 1)"
   ]
  },
  {
   "cell_type": "code",
   "execution_count": 5,
   "metadata": {},
   "outputs": [
    {
     "name": "stdout",
     "output_type": "stream",
     "text": [
      "OK\n"
     ]
    }
   ],
   "source": [
    "# Alice sends initial weights to Bob\n",
    "print(spdz.swap_shares(syn0_bob, party, socket))\n",
    "\n",
    "# Alice receives X and y data from Bob\n",
    "X_alice = spdz.swap_shares(np.array(\"OK\"), party, socket)\n",
    "y_alice = spdz.swap_shares(np.array(\"OK\"), party, socket)"
   ]
  },
  {
   "cell_type": "code",
   "execution_count": 6,
   "metadata": {},
   "outputs": [
    {
     "name": "stdout",
     "output_type": "stream",
     "text": [
      "Elapsed Training Time:\n",
      " 49.09345006942749\n",
      "Layer 0 weights: \n",
      "[[ 9.6731805]\n",
      " [-0.2077667]\n",
      " [-4.6290403]]\n"
     ]
    }
   ],
   "source": [
    "# Train in sync with Bob\n",
    "\n",
    "#sigmoid = spdz.SigmoidInterpolated10()\n",
    "sigmoid = spdz.Sigmoid()\n",
    "\n",
    "network = spdz.TwoLayerNetwork(sigmoid, party, socket)\n",
    "\n",
    "start_time = time.time()\n",
    "network.train(X_alice, y_alice, syn0_alice)\n",
    "\n",
    "print(\"Elapsed Training Time:\\n\", time.time() - start_time)\n",
    "network.print_weights()"
   ]
  },
  {
   "cell_type": "code",
   "execution_count": null,
   "metadata": {},
   "outputs": [],
   "source": []
  }
 ],
 "metadata": {
  "kernelspec": {
   "display_name": "Python 3",
   "language": "python",
   "name": "python3"
  },
  "language_info": {
   "codemirror_mode": {
    "name": "ipython",
    "version": 3
   },
   "file_extension": ".py",
   "mimetype": "text/x-python",
   "name": "python",
   "nbconvert_exporter": "python",
   "pygments_lexer": "ipython3",
   "version": "3.6.2"
  }
 },
 "nbformat": 4,
 "nbformat_minor": 2
}
