{
 "cells": [
  {
   "cell_type": "code",
   "execution_count": 5,
   "metadata": {
    "collapsed": true
   },
   "outputs": [],
   "source": [
    "import numpy as np"
   ]
  },
  {
   "cell_type": "code",
   "execution_count": 480,
   "metadata": {},
   "outputs": [],
   "source": [
    "class FloatTensor(object):\n",
    "    \n",
    "    def __init__(self,data,autograd=False,keepgrads=False,creator=None, creation_op=None, id=None):\n",
    "        \n",
    "        self.data = data\n",
    "        self.autograd = autograd\n",
    "        self.keepgrads = keepgrads\n",
    "        self.grad = None\n",
    "        if(id is None):\n",
    "            self.id = np.random.randint(0,100000)\n",
    "        else:\n",
    "            self.id = id\n",
    "        \n",
    "        self.creator = creator\n",
    "        self.creation_op = creation_op\n",
    "        self.children = {}\n",
    "    \n",
    "    def __add__(self,other):\n",
    "        if(self.autograd):\n",
    "            out = FloatTensor(self.data + other.data, autograd=True, creator=[self,other], creation_op=\"add\")\n",
    "            self.children[out.id] = 0\n",
    "            other.children[out.id] = 0\n",
    "            return out\n",
    "        else:\n",
    "            return FloatTensor(self.data + other.data)\n",
    "        \n",
    "    \n",
    "    def __mul__(self,other):\n",
    "        if(self.autograd):\n",
    "            out = FloatTensor(self.data * other.data, autograd=True, creator=[self,other], creation_op=\"mul\")\n",
    "            self.children[out.id] = 0\n",
    "            other.children[out.id] = 0\n",
    "            \n",
    "            return out\n",
    "        else:\n",
    "            return FloatTensor(self.data * other.data)\n",
    "\n",
    "    def __truediv__(self,other):\n",
    "        if(self.autograd):\n",
    "            out = FloatTensor(self.data / other.data, autograd=True, creator=[self,other], creation_op=\"div\")\n",
    "            self.children[out.id] = 0\n",
    "            other.children[out.id] = 0\n",
    "            \n",
    "        return FloatTensor(self.data / other.data)    \n",
    "    \n",
    "    def __sub__(self,other):\n",
    "        if(self.autograd):\n",
    "            out = FloatTensor(self.data - other.data, autograd=True, creator=[self,other], creation_op=\"sub\")\n",
    "            self.children[out.id] = 0\n",
    "            other.children[out.id] = 0\n",
    "            \n",
    "            return out\n",
    "\n",
    "        return FloatTensor(self.data - other.data)   \n",
    "    \n",
    "    def __repr__(self):\n",
    "        return self.data.__repr__()\n",
    "    \n",
    "    def __neg__(self):\n",
    "        if(self.autograd):\n",
    "            out = FloatTensor(-self.data, autograd=True, creator=[self], creation_op=\"neg\")\n",
    "            self.children[out.id] = 0\n",
    "        return FloatTensor(-self.data)      \n",
    "    \n",
    "    def all_children_grads_accounted_for(self):\n",
    "        for id,cnt in self.children.items():\n",
    "            if(cnt == 0):\n",
    "                return False\n",
    "        return True\n",
    "    \n",
    "    def backward(self,grad=None, grad_origin=None):\n",
    "        if(self.autograd):\n",
    "            if(grad is None):\n",
    "                grad = FloatTensor(np.ones_like(self.data))\n",
    "            \n",
    "            if(grad_origin is not None):\n",
    "                if(self.children[grad_origin.id] > 0):\n",
    "                    raise Exception(\"cannot backprop more than once\")\n",
    "                else:\n",
    "                    self.children[grad_origin.id] += 1\n",
    "            \n",
    "            if(self.grad is None):\n",
    "                self.grad = grad\n",
    "            else:\n",
    "                self.grad += grad\n",
    "            \n",
    "            # grads must not have grads of their own\n",
    "            assert grad.autograd == False\n",
    "            \n",
    "            # only continue backpropping if there's something to backprop into\n",
    "            # only continue backpropping if all gradients (from children) are accounted for\n",
    "            # override waiting for children if \"backprop\" was called on this variable directly\n",
    "            if(self.creator is not None and (self.all_children_grads_accounted_for() or grad_origin is None)):\n",
    "\n",
    "                if(self.creation_op == \"add\"):\n",
    "                    self.creator[0].backward(grad, self)\n",
    "                    self.creator[1].backward(grad, self)\n",
    "\n",
    "                if(self.creation_op == \"mul\"):\n",
    "                    self.creator[0].backward(self.grad * self.creator[1], self)\n",
    "                    self.creator[1].backward(self.grad * self.creator[0], self)\n",
    "\n",
    "                if(self.creation_op == \"div\"):\n",
    "                    self.creator[0].backward(self.grad / self.creator[1], self)\n",
    "                    self.creator[1].backward(self.grad / self.creator[0], self)\n",
    "\n",
    "                if(self.creation_op == \"sub\"):\n",
    "                    self.creator[0].backward(self.grad, self)\n",
    "                    self.creator[1].backward(-self.grad, self)\n",
    "\n",
    "                if(self.creation_op == \"neg\"):\n",
    "                    self.creator[0].backward(-self.grad,self)\n",
    "                    \n",
    "                if(not self.keepgrads):\n",
    "                    self.grad = None\n",
    "\n",
    "        \n",
    "    "
   ]
  },
  {
   "cell_type": "code",
   "execution_count": 503,
   "metadata": {},
   "outputs": [],
   "source": [
    "a = FloatTensor(np.array([1,2,3,4,5]),autograd=True,keepgrads=True)\n",
    "b = FloatTensor(np.array([6,7,8,9,10]),autograd=True,keepgrads=True)"
   ]
  },
  {
   "cell_type": "code",
   "execution_count": 504,
   "metadata": {},
   "outputs": [
    {
     "data": {
      "text/plain": [
       "89874"
      ]
     },
     "execution_count": 504,
     "metadata": {},
     "output_type": "execute_result"
    }
   ],
   "source": [
    "c = a - b\n",
    "c.id"
   ]
  },
  {
   "cell_type": "code",
   "execution_count": 505,
   "metadata": {},
   "outputs": [
    {
     "data": {
      "text/plain": [
       "4810"
      ]
     },
     "execution_count": 505,
     "metadata": {},
     "output_type": "execute_result"
    }
   ],
   "source": [
    "d = a * b\n",
    "d.id"
   ]
  },
  {
   "cell_type": "code",
   "execution_count": 506,
   "metadata": {},
   "outputs": [
    {
     "data": {
      "text/plain": [
       "57150"
      ]
     },
     "execution_count": 506,
     "metadata": {},
     "output_type": "execute_result"
    }
   ],
   "source": [
    "e = c + d\n",
    "e.id"
   ]
  },
  {
   "cell_type": "code",
   "execution_count": 507,
   "metadata": {},
   "outputs": [],
   "source": [
    "e.backward()"
   ]
  },
  {
   "cell_type": "code",
   "execution_count": 508,
   "metadata": {},
   "outputs": [
    {
     "data": {
      "text/plain": [
       "array([ 7,  8,  9, 10, 11])"
      ]
     },
     "execution_count": 508,
     "metadata": {},
     "output_type": "execute_result"
    }
   ],
   "source": [
    "a.grad"
   ]
  },
  {
   "cell_type": "code",
   "execution_count": 509,
   "metadata": {},
   "outputs": [
    {
     "data": {
      "text/plain": [
       "array([0, 1, 2, 3, 4])"
      ]
     },
     "execution_count": 509,
     "metadata": {},
     "output_type": "execute_result"
    }
   ],
   "source": [
    "b.grad"
   ]
  },
  {
   "cell_type": "code",
   "execution_count": null,
   "metadata": {
    "collapsed": true
   },
   "outputs": [],
   "source": []
  },
  {
   "cell_type": "code",
   "execution_count": 510,
   "metadata": {
    "collapsed": true
   },
   "outputs": [],
   "source": [
    "import torch\n",
    "from torch.autograd import Variable"
   ]
  },
  {
   "cell_type": "code",
   "execution_count": 511,
   "metadata": {},
   "outputs": [],
   "source": [
    "a = Variable(torch.FloatTensor(np.array([1.,2,3,4,5])),requires_grad=True)\n",
    "b = Variable(torch.FloatTensor(np.array([6.,7,8,9,10])),requires_grad=True)"
   ]
  },
  {
   "cell_type": "code",
   "execution_count": 512,
   "metadata": {
    "collapsed": true
   },
   "outputs": [],
   "source": [
    "c = a - b"
   ]
  },
  {
   "cell_type": "code",
   "execution_count": 513,
   "metadata": {
    "collapsed": true
   },
   "outputs": [],
   "source": [
    "d = a * b"
   ]
  },
  {
   "cell_type": "code",
   "execution_count": 514,
   "metadata": {
    "collapsed": true
   },
   "outputs": [],
   "source": [
    "e = c + d"
   ]
  },
  {
   "cell_type": "code",
   "execution_count": 515,
   "metadata": {},
   "outputs": [],
   "source": [
    "e.backward(torch.FloatTensor(np.ones(5)))"
   ]
  },
  {
   "cell_type": "code",
   "execution_count": 516,
   "metadata": {},
   "outputs": [
    {
     "data": {
      "text/plain": [
       "Variable containing:\n",
       "  7\n",
       "  8\n",
       "  9\n",
       " 10\n",
       " 11\n",
       "[torch.FloatTensor of size 5]"
      ]
     },
     "execution_count": 516,
     "metadata": {},
     "output_type": "execute_result"
    }
   ],
   "source": [
    "a.grad"
   ]
  },
  {
   "cell_type": "code",
   "execution_count": 499,
   "metadata": {},
   "outputs": [
    {
     "data": {
      "text/plain": [
       "Variable containing:\n",
       " 0\n",
       " 1\n",
       " 2\n",
       " 3\n",
       " 4\n",
       "[torch.FloatTensor of size 5]"
      ]
     },
     "execution_count": 499,
     "metadata": {},
     "output_type": "execute_result"
    }
   ],
   "source": [
    "b.grad"
   ]
  },
  {
   "cell_type": "code",
   "execution_count": 500,
   "metadata": {
    "collapsed": true
   },
   "outputs": [],
   "source": [
    "c.grad"
   ]
  },
  {
   "cell_type": "code",
   "execution_count": 501,
   "metadata": {
    "collapsed": true
   },
   "outputs": [],
   "source": [
    "d.grad"
   ]
  },
  {
   "cell_type": "code",
   "execution_count": 502,
   "metadata": {
    "collapsed": true
   },
   "outputs": [],
   "source": [
    "e.grad"
   ]
  },
  {
   "cell_type": "code",
   "execution_count": null,
   "metadata": {
    "collapsed": true
   },
   "outputs": [],
   "source": []
  }
 ],
 "metadata": {
  "kernelspec": {
   "display_name": "Python 3",
   "language": "python",
   "name": "python3"
  },
  "language_info": {
   "codemirror_mode": {
    "name": "ipython",
    "version": 3
   },
   "file_extension": ".py",
   "mimetype": "text/x-python",
   "name": "python",
   "nbconvert_exporter": "python",
   "pygments_lexer": "ipython3",
   "version": "3.6.1"
  }
 },
 "nbformat": 4,
 "nbformat_minor": 2
}
