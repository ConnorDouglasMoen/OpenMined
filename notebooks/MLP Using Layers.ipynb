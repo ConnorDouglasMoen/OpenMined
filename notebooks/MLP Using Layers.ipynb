{
 "cells": [
  {
   "cell_type": "code",
   "execution_count": 1,
   "metadata": {},
   "outputs": [],
   "source": [
    "from syft import Linear, Sigmoid, Model\n",
    "import syft.syft as syft\n",
    "import imp\n",
    "imp.reload(syft)\n",
    "import numpy as np\n",
    "from syft.syft import FloatTensor,SyftController\n",
    "# connect -- rerun this block if you make changes to the unity back-end\n",
    "#         -- the controller is not yet smart enough to retry connection\n",
    "#         -- on its own\n",
    "sc = SyftController(verbose=False)"
   ]
  },
  {
   "cell_type": "code",
   "execution_count": 2,
   "metadata": {
    "collapsed": true
   },
   "outputs": [],
   "source": [
    "# Dataset\n",
    "input = sc.FloatTensor([[0,0,1],[0,1.0,1],[1,0,1],[1,1,1]], autograd=True)\n",
    "target = sc.FloatTensor([[0],[0],[1],[1]]).autograd(True)"
   ]
  },
  {
   "cell_type": "code",
   "execution_count": 3,
   "metadata": {},
   "outputs": [],
   "source": [
    "class MLP(Model):\n",
    "    def __init__(self,input=3,hidden=4,output=1):\n",
    "        \n",
    "        # Weights\n",
    "        self.weights_0 = sc.Linear(input,hidden)\n",
    "        self.weights_1 = sc.Linear(hidden,output)\n",
    "\n",
    "        self.sigmoid = sc.Sigmoid()\n",
    "        \n",
    "    def forward(self, input):\n",
    "        \n",
    "        layer_1 = self.sigmoid(self.weights_0(input))\n",
    "        layer_2 = self.sigmoid(self.weights_1(layer_1))\n",
    "        \n",
    "        return layer_2"
   ]
  },
  {
   "cell_type": "code",
   "execution_count": 4,
   "metadata": {},
   "outputs": [],
   "source": [
    "model = MLP()"
   ]
  },
  {
   "cell_type": "code",
   "execution_count": 8,
   "metadata": {},
   "outputs": [],
   "source": [
    "pred = model(input)"
   ]
  },
  {
   "cell_type": "code",
   "execution_count": null,
   "metadata": {
    "collapsed": true
   },
   "outputs": [],
   "source": []
  }
 ],
 "metadata": {
  "kernelspec": {
   "display_name": "Python 3",
   "language": "python",
   "name": "python3"
  },
  "language_info": {
   "codemirror_mode": {
    "name": "ipython",
    "version": 3
   },
   "file_extension": ".py",
   "mimetype": "text/x-python",
   "name": "python",
   "nbconvert_exporter": "python",
   "pygments_lexer": "ipython3",
   "version": "3.6.1"
  }
 },
 "nbformat": 4,
 "nbformat_minor": 2
}
